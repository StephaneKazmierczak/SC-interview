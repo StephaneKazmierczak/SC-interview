{
 "cells": [
  {
   "cell_type": "markdown",
   "metadata": {},
   "source": [
    "# Previous data import\n"
   ]
  },
  {
   "cell_type": "code",
   "execution_count": 10,
   "metadata": {},
   "outputs": [],
   "source": [
    "import anndata as ad\n",
    "\n",
    "# Load the AnnData object\n",
    "adata = ad.read_h5ad('./data/adata.h5ad')"
   ]
  },
  {
   "cell_type": "markdown",
   "metadata": {},
   "source": [
    "# Classifier for cell type prediction"
   ]
  },
  {
   "cell_type": "code",
   "execution_count": 11,
   "metadata": {},
   "outputs": [],
   "source": [
    "import torch\n",
    "import torch.nn as nn\n",
    "import torch.optim as optim\n",
    "\n",
    "from torch.utils.data import DataLoader, TensorDataset\n",
    "from sklearn.model_selection import KFold\n",
    "from sklearn.metrics import accuracy_score\n"
   ]
  },
  {
   "cell_type": "code",
   "execution_count": 12,
   "metadata": {},
   "outputs": [],
   "source": [
    "# Extract the expression data and labels\n",
    "X = adata[:, adata.var['highly_variable']].X\n",
    "y = adata.obs['cell_classes'].astype('category').cat.codes.values"
   ]
  },
  {
   "cell_type": "code",
   "execution_count": 13,
   "metadata": {},
   "outputs": [],
   "source": [
    "# Convert to PyTorch tensors\n",
    "# X_tensor = torch.tensor(X.toarray(), dtype=torch.float32)\n",
    "X_tensor = torch.tensor(X.toarray(), dtype=torch.bfloat16) # reduce memory usage\n",
    "y_tensor = torch.tensor(y, dtype=torch.long)"
   ]
  },
  {
   "cell_type": "markdown",
   "metadata": {},
   "source": [
    "In the following part I will stratify the data into 3 sets: training, validation and test.   \n",
    "The data is very imbalanced and stratification ensures we have the same proportion of each class in each set. \n",
    "Also we will use weighted dataloader to handle the imbalance in the data during training, but there are many other techniques that could be used."
   ]
  },
  {
   "cell_type": "code",
   "execution_count": 14,
   "metadata": {},
   "outputs": [],
   "source": [
    "from sklearn.model_selection import StratifiedShuffleSplit\n",
    "from torch.utils.data.sampler import WeightedRandomSampler\n",
    "\n",
    "# Define the split ratios\n",
    "test_ratio = 0.1\n",
    "validation_ratio = 0.1\n",
    "train_ratio = 0.8\n",
    "\n",
    "# Initialize StratifiedShuffleSplit for train and temp split\n",
    "sss_train_temp = StratifiedShuffleSplit(n_splits=1, test_size=(test_ratio + validation_ratio), random_state=42)\n",
    "\n",
    "# Split the data into train and temp (validation + test)\n",
    "for train_index, temp_index in sss_train_temp.split(X, y):\n",
    "    X_train, X_temp = X[train_index], X[temp_index]\n",
    "    y_train, y_temp = y[train_index], y[temp_index]\n",
    "\n",
    "# Initialize StratifiedShuffleSplit for validation and test split\n",
    "sss_validation_test = StratifiedShuffleSplit(n_splits=1, test_size=(test_ratio / (test_ratio + validation_ratio)), random_state=42)\n",
    "\n",
    "# Split the temp data into validation and test\n",
    "for validation_index, test_index in sss_validation_test.split(X_temp, y_temp):\n",
    "    X_validation, X_test = X_temp[validation_index], X_temp[test_index]\n",
    "    y_validation, y_test = y_temp[validation_index], y_temp[test_index]\n",
    "\n",
    "# Convert to PyTorch tensors\n",
    "X_train_tensor = torch.tensor(X_train.toarray(), dtype=torch.float32)\n",
    "y_train_tensor = torch.tensor(y_train, dtype=torch.long)\n",
    "X_validation_tensor = torch.tensor(X_validation.toarray(), dtype=torch.float32)\n",
    "y_validation_tensor = torch.tensor(y_validation, dtype=torch.long)\n",
    "X_test_tensor = torch.tensor(X_test.toarray(), dtype=torch.float32)\n",
    "y_test_tensor = torch.tensor(y_test, dtype=torch.long)\n",
    "\n",
    "# Create TensorDatasets\n",
    "train_dataset = TensorDataset(X_train_tensor, y_train_tensor)\n",
    "validation_dataset = TensorDataset(X_validation_tensor, y_validation_tensor)\n",
    "test_dataset = TensorDataset(X_test_tensor, y_test_tensor)\n",
    "\n",
    "# Calculate class weights\n",
    "class_sample_count = np.array([len(np.where(y_train == t)[0]) for t in np.unique(y_train)])\n",
    "weight = 1. / class_sample_count\n",
    "samples_weight = np.array([weight[t] for t in y_train])\n",
    "\n",
    "# Create WeightedRandomSampler\n",
    "samples_weight = torch.from_numpy(samples_weight)\n",
    "sampler = WeightedRandomSampler(samples_weight.type('torch.DoubleTensor'), len(samples_weight))\n",
    "\n",
    "# Create DataLoaders\n",
    "train_loader = DataLoader(train_dataset, batch_size=64, sampler=sampler)\n",
    "validation_loader = DataLoader(validation_dataset, batch_size=64, shuffle=False)\n",
    "test_loader = DataLoader(test_dataset, batch_size=64, shuffle=False)"
   ]
  },
  {
   "cell_type": "code",
   "execution_count": 15,
   "metadata": {},
   "outputs": [],
   "source": [
    "import torch.nn.functional as F\n",
    "\n",
    "class GeneExpressionClassifier(nn.Module):\n",
    "    def __init__(self, input_size, num_classes):\n",
    "        super(GeneExpressionClassifier, self).__init__()\n",
    "        self.fc1 = nn.Linear(input_size, 256)\n",
    "        self.bn1 = nn.BatchNorm1d(256)\n",
    "        self.drop1 = nn.Dropout(p=0.5)\n",
    "        self.fc2 = nn.Linear(256, 128)\n",
    "        self.bn2 = nn.BatchNorm1d(128)\n",
    "        self.drop2 = nn.Dropout(p=0.5)\n",
    "        self.fc3 = nn.Linear(128, num_classes)\n",
    "\n",
    "    def forward(self, x):\n",
    "        x = F.relu(self.bn1(self.fc1(x)))\n",
    "        x = self.drop1(x)\n",
    "        x = F.relu(self.bn2(self.fc2(x)))\n",
    "        x = self.drop2(x)\n",
    "        x = self.fc3(x)\n",
    "        return x\n"
   ]
  },
  {
   "cell_type": "code",
   "execution_count": 19,
   "metadata": {},
   "outputs": [],
   "source": [
    "# Initialize the model, loss function, and optimizer\n",
    "input_dim = X.shape[1]\n",
    "num_classes = len(set(y))\n",
    "model = GeneExpressionClassifier(input_dim, num_classes)\n",
    "criterion = nn.CrossEntropyLoss()\n"
   ]
  },
  {
   "cell_type": "markdown",
   "metadata": {},
   "source": [
    "# Training loop "
   ]
  },
  {
   "cell_type": "code",
   "execution_count": null,
   "metadata": {},
   "outputs": [
    {
     "name": "stdout",
     "output_type": "stream",
     "text": [
      "Epoch 1/100, Loss: 0.8028, Validation Loss: 0.9306, LR: 0.001000\n",
      "Epoch 2/100, Loss: 0.5888, Validation Loss: 0.8624, LR: 0.001000\n",
      "Epoch 3/100, Loss: 0.5250, Validation Loss: 0.9258, LR: 0.001000\n",
      "Epoch 4/100, Loss: 0.4721, Validation Loss: 0.8849, LR: 0.001000\n",
      "Epoch 5/100, Loss: 0.4212, Validation Loss: 0.8690, LR: 0.000100\n",
      "Epoch 6/100, Loss: 0.3771, Validation Loss: 0.8610, LR: 0.000100\n",
      "Epoch 7/100, Loss: 0.3620, Validation Loss: 0.8148, LR: 0.000100\n",
      "Epoch 8/100, Loss: 0.3460, Validation Loss: 0.8594, LR: 0.000100\n",
      "Epoch 9/100, Loss: 0.3335, Validation Loss: 0.8298, LR: 0.000100\n",
      "Epoch 10/100, Loss: 0.3209, Validation Loss: 0.8327, LR: 0.000010\n",
      "Epoch 11/100, Loss: 0.3119, Validation Loss: 0.8390, LR: 0.000010\n",
      "Epoch 12/100, Loss: 0.3148, Validation Loss: 0.8570, LR: 0.000010\n",
      "Epoch 13/100, Loss: 0.3082, Validation Loss: 0.8212, LR: 0.000001\n",
      "Early stopping triggered at epoch 13\n"
     ]
    }
   ],
   "source": [
    "import os\n",
    "import numpy as np\n",
    "import matplotlib.pyplot as plt\n",
    "from sklearn.metrics import f1_score\n",
    "from torch.optim import lr_scheduler\n",
    "\n",
    "# create models folder if it doesn't exist\n",
    "if not os.path.exists('./data/models'):\n",
    "    os.makedirs('./data/models')\n",
    "\n",
    "# Initialize a list to store the loss values\n",
    "loss_values = []\n",
    "val_loss_values = []\n",
    "\n",
    "# Early stopping parameters\n",
    "patience = 6\n",
    "min_delta = 0.0001\n",
    "best_val_loss = np.inf\n",
    "patience_counter = 0\n",
    "\n",
    "# Define the optimizer and learning rate scheduler\n",
    "optimizer = torch.optim.Adam(model.parameters(), lr=0.001)\n",
    "scheduler = lr_scheduler.ReduceLROnPlateau(optimizer, mode=\"min\", factor=0.1, patience=2, min_lr=1e-6)\n",
    "\n",
    "# Training loop with loss tracking and early stopping\n",
    "num_epochs = 100\n",
    "\n",
    "for epoch in range(num_epochs):\n",
    "    epoch_loss = 0\n",
    "    model.train()\n",
    "    for inputs, labels in train_loader:\n",
    "\n",
    "        # Zero the parameter gradients\n",
    "        optimizer.zero_grad()\n",
    "\n",
    "        # Forward pass\n",
    "        outputs = model(inputs)\n",
    "        loss = criterion(outputs, labels)\n",
    "\n",
    "        # Backward pass and optimize\n",
    "        loss.backward()\n",
    "        optimizer.step()\n",
    "\n",
    "        # Accumulate loss\n",
    "        epoch_loss += loss.item()\n",
    "\n",
    "    # Calculate average loss for the epoch\n",
    "    avg_epoch_loss = epoch_loss / len(train_loader)\n",
    "    loss_values.append(avg_epoch_loss)\n",
    "\n",
    "    # Validation loss\n",
    "    model.eval()\n",
    "    epoch_val_loss = 0\n",
    "    with torch.no_grad():\n",
    "        for inputs, labels in validation_loader:\n",
    "            outputs = model(inputs)\n",
    "            val_loss = criterion(outputs, labels)\n",
    "            epoch_val_loss += val_loss.item()\n",
    "\n",
    "    avg_val_loss = epoch_val_loss / len(validation_loader)\n",
    "    val_loss_values.append(avg_val_loss)\n",
    "\n",
    "    # Adjust the learning rate based on validation loss\n",
    "    scheduler.step(avg_val_loss)\n",
    "    current_lr = optimizer.param_groups[0]['lr']\n",
    "\n",
    "    print(f'Epoch {epoch+1}/{num_epochs}, Loss: {avg_epoch_loss:.4f}, Validation Loss: {avg_val_loss:.4f}, LR: {current_lr:.6f}')\n",
    "\n",
    "    # Early stopping condition\n",
    "    if best_val_loss - avg_val_loss > min_delta:\n",
    "        best_val_loss = avg_val_loss\n",
    "        patience_counter = 0\n",
    "        torch.save(model.state_dict(), \"./data/models/best_model.pth\")  # Save best model\n",
    "    else:\n",
    "        patience_counter += 1\n",
    "        if patience_counter >= patience:\n",
    "            print(f'Early stopping triggered at epoch {epoch+1}')\n",
    "            break\n",
    "\n"
   ]
  },
  {
   "cell_type": "markdown",
   "metadata": {},
   "source": [
    "# Evaluation"
   ]
  },
  {
   "cell_type": "code",
   "execution_count": 21,
   "metadata": {},
   "outputs": [
    {
     "data": {
      "image/png": "[encoded data removed]",
      "text/plain": [
       "<Figure size 640x480 with 1 Axes>"
      ]
     },
     "metadata": {},
     "output_type": "display_data"
    },
    {
     "name": "stdout",
     "output_type": "stream",
     "text": [
      "F1 Score: 0.7070994696122714\n",
      "Macro F1 Score: 0.6229829638262356\n",
      "Macro AUC-PR: 0.49836538250237683\n"
     ]
    }
   ],
   "source": [
    "# Plot the training and validation loss values\n",
    "plt.plot(range(1, len(loss_values) + 1), loss_values, label='Training Loss', marker='o')\n",
    "plt.plot(range(1, len(val_loss_values) + 1), val_loss_values, label='Validation Loss', marker='o')\n",
    "plt.xlabel('Epoch')\n",
    "plt.ylabel('Loss')\n",
    "plt.title('Training and Validation Loss Over Epochs')\n",
    "plt.legend()\n",
    "plt.show()\n",
    "\n",
    "# Evaluation on the test set\n",
    "model.eval()\n",
    "y_true = []\n",
    "y_pred = []\n",
    "with torch.no_grad():\n",
    "    for inputs, labels in test_loader:\n",
    "        outputs = model(inputs)\n",
    "        _, predicted = torch.max(outputs, 1)\n",
    "        y_true.extend(labels.cpu().numpy())\n",
    "        y_pred.extend(predicted.cpu().numpy())\n",
    "\n",
    "# Compute F1 score\n",
    "f1 = f1_score(y_true, y_pred, average='weighted')\n",
    "print(f'F1 Score: {f1}')\n",
    "\n",
    "# Compute macro F1 score\n",
    "macro_f1 = f1_score(y_true, y_pred, average='macro')\n",
    "print(f'Macro F1 Score: {macro_f1}')\n",
    "from sklearn.metrics import average_precision_score\n",
    "from sklearn.preprocessing import label_binarize\n",
    "\n",
    "# Binarize the labels for multi-class classification\n",
    "y_true_binarized = label_binarize(y_true, classes=range(num_classes))\n",
    "y_pred_binarized = label_binarize(y_pred, classes=range(num_classes))\n",
    "\n",
    "# Compute the average precision score for each class\n",
    "average_precision = average_precision_score(y_true_binarized, y_pred_binarized, average='macro')\n",
    "print(f'Macro AUC-PR: {average_precision}')"
   ]
  },
  {
   "cell_type": "markdown",
   "metadata": {},
   "source": [
    "I selected a few metrics that focus on classe imbalance to evaluate the model performance,  \n",
    "the results are not that great in that regard and would need more work to improve the model, fix the problems.  \n",
    "We can also clearly see that the model is overfitting the training data, we could use more regularization techniques to fix that. "
   ]
  },
  {
   "cell_type": "markdown",
   "metadata": {},
   "source": [
    "Other possible improvements: \n",
    "\n",
    "- better analysis of the dataset to select better threashold for the gene cutoff, genes with high variability\n",
    "- implement dimensionality reduction techniques like PCA, t-SNE, instead of the gene variability cutoff\n",
    "- try transfer learning from other Single cell classifiers, ex: CellLM, scBiGNN, CTISL  \n",
    "- try other techniques for class imbalance, like oversampling, undersampling, SMOTE, focal loss \n",
    "- use k fold cross validation to train on more of the data, especially minority classes \n",
    "- try other classifiers models and hyperparameters tuning\n",
    "- try an auto encoder for feature selection from laten space then build classifier on top of it "
   ]
  }
 ],
 "metadata": {
  "kernelspec": {
   "display_name": "py311",
   "language": "python",
   "name": "python3"
  },
  "language_info": {
   "codemirror_mode": {
    "name": "ipython",
    "version": 3
   },
   "file_extension": ".py",
   "mimetype": "text/x-python",
   "name": "python",
   "nbconvert_exporter": "python",
   "pygments_lexer": "ipython3",
   "version": "3.11.8"
  }
 },
 "nbformat": 4,
 "nbformat_minor": 2
}
